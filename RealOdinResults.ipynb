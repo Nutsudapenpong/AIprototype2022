{
  "nbformat": 4,
  "nbformat_minor": 0,
  "metadata": {
    "colab": {
      "name": "Untitled49.ipynb",
      "provenance": [],
      "mount_file_id": "1I4i5zhPtoQpOdKw1cNKXHoljpziv1PdZ",
      "authorship_tag": "ABX9TyNLbFT1fbQSElzrKw96T4AX",
      "include_colab_link": true
    },
    "kernelspec": {
      "name": "python3",
      "display_name": "Python 3"
    },
    "language_info": {
      "name": "python"
    },
    "accelerator": "GPU",
    "gpuClass": "standard"
  },
  "cells": [
    {
      "cell_type": "markdown",
      "metadata": {
        "id": "view-in-github",
        "colab_type": "text"
      },
      "source": [
        "<a href=\"https://colab.research.google.com/github/Nutsudapenpong/AIprototype2022/blob/main/RealOdinResults.ipynb\" target=\"_parent\"><img src=\"https://colab.research.google.com/assets/colab-badge.svg\" alt=\"Open In Colab\"/></a>"
      ]
    },
    {
      "cell_type": "code",
      "source": [
        "from google.colab import drive\n",
        "drive.mount('/content/drive')"
      ],
      "metadata": {
        "id": "kAyvj-aYad8W"
      },
      "execution_count": null,
      "outputs": []
    },
    {
      "cell_type": "code",
      "execution_count": 4,
      "metadata": {
        "colab": {
          "base_uri": "https://localhost:8080/"
        },
        "id": "o8Frj52eLMoS",
        "outputId": "413be6b6-166c-4a11-c82c-211a6dd2b3df"
      },
      "outputs": [
        {
          "output_type": "stream",
          "name": "stdout",
          "text": [
            "/content/drive/MyDrive/odin\n"
          ]
        }
      ],
      "source": [
        "%cd /content/drive/MyDrive/odin"
      ]
    },
    {
      "cell_type": "code",
      "source": [
        "%cd code/"
      ],
      "metadata": {
        "colab": {
          "base_uri": "https://localhost:8080/"
        },
        "id": "ppZ9vkcEU4N5",
        "outputId": "6855dcaa-c95b-4b69-926f-f98afea88670"
      },
      "execution_count": 5,
      "outputs": [
        {
          "output_type": "stream",
          "name": "stdout",
          "text": [
            "/content/drive/MyDrive/odin/code\n"
          ]
        }
      ]
    },
    {
      "cell_type": "code",
      "source": [
        "# model: DenseNet-BC, in-distribution: CIFAR-10, out-distribution: TinyImageNet (crop)\n",
        "# magnitude: 0.0014, temperature 1000, gpu: 0\n",
        "!python main.py --nn densenet10 --out_dataset Imagenet --magnitude 0.0014 --temperature 1000 --gpu 0"
      ],
      "metadata": {
        "colab": {
          "base_uri": "https://localhost:8080/"
        },
        "id": "Ji9Z9japU9NQ",
        "outputId": "85797dee-5b0e-4224-914b-0e589f10982c"
      },
      "execution_count": 8,
      "outputs": [
        {
          "output_type": "stream",
          "name": "stdout",
          "text": [
            "/usr/local/lib/python3.7/dist-packages/torch/serialization.py:786: SourceChangeWarning: source code of class 'torch.nn.modules.conv.Conv2d' has changed. you can retrieve the original source code by accessing the object's source attribute or set `torch.nn.Module.dump_patches = True` and use the patch tool to revert the changes.\n",
            "  warnings.warn(msg, SourceChangeWarning)\n",
            "/usr/local/lib/python3.7/dist-packages/torch/serialization.py:786: SourceChangeWarning: source code of class 'torch.nn.modules.container.Sequential' has changed. you can retrieve the original source code by accessing the object's source attribute or set `torch.nn.Module.dump_patches = True` and use the patch tool to revert the changes.\n",
            "  warnings.warn(msg, SourceChangeWarning)\n",
            "/usr/local/lib/python3.7/dist-packages/torch/serialization.py:786: SourceChangeWarning: source code of class 'torch.nn.modules.batchnorm.BatchNorm2d' has changed. you can retrieve the original source code by accessing the object's source attribute or set `torch.nn.Module.dump_patches = True` and use the patch tool to revert the changes.\n",
            "  warnings.warn(msg, SourceChangeWarning)\n",
            "/usr/local/lib/python3.7/dist-packages/torch/serialization.py:786: SourceChangeWarning: source code of class 'torch.nn.modules.activation.ReLU' has changed. you can retrieve the original source code by accessing the object's source attribute or set `torch.nn.Module.dump_patches = True` and use the patch tool to revert the changes.\n",
            "  warnings.warn(msg, SourceChangeWarning)\n",
            "/usr/local/lib/python3.7/dist-packages/torch/serialization.py:786: SourceChangeWarning: source code of class 'torch.nn.modules.linear.Linear' has changed. you can retrieve the original source code by accessing the object's source attribute or set `torch.nn.Module.dump_patches = True` and use the patch tool to revert the changes.\n",
            "  warnings.warn(msg, SourceChangeWarning)\n",
            "Downloading https://www.cs.toronto.edu/~kriz/cifar-10-python.tar.gz to ../data/cifar-10-python.tar.gz\n",
            "100% 170498071/170498071 [00:13<00:00, 12441273.47it/s]\n",
            "Extracting ../data/cifar-10-python.tar.gz to ../data\n",
            "Processing in-distribution images\n",
            "/content/drive/MyDrive/odin/code/calData.py:72: UserWarning: This overload of add is deprecated:\n",
            "\tadd(Tensor input, Number alpha, Tensor other, *, Tensor out)\n",
            "Consider using one of the following signatures instead:\n",
            "\tadd(Tensor input, Tensor other, *, Number alpha, Tensor out) (Triggered internally at  ../torch/csrc/utils/python_arg_parser.cpp:1174.)\n",
            "  tempInputs = torch.add(inputs.data,  -noiseMagnitude1, gradient)\n",
            " 100/9000 images processed, 17.1 seconds used.\n",
            " 200/9000 images processed, 5.5 seconds used.\n",
            " 300/9000 images processed, 5.5 seconds used.\n",
            " 400/9000 images processed, 5.6 seconds used.\n",
            " 500/9000 images processed, 5.5 seconds used.\n",
            " 600/9000 images processed, 5.5 seconds used.\n",
            " 700/9000 images processed, 5.6 seconds used.\n",
            " 800/9000 images processed, 5.5 seconds used.\n",
            " 900/9000 images processed, 5.7 seconds used.\n",
            "1000/9000 images processed, 5.5 seconds used.\n",
            "1100/9000 images processed, 5.5 seconds used.\n",
            "1200/9000 images processed, 5.6 seconds used.\n",
            "1300/9000 images processed, 5.5 seconds used.\n",
            "1400/9000 images processed, 5.5 seconds used.\n",
            "1500/9000 images processed, 5.5 seconds used.\n",
            "1600/9000 images processed, 5.6 seconds used.\n",
            "1700/9000 images processed, 5.5 seconds used.\n",
            "1800/9000 images processed, 5.6 seconds used.\n",
            "1900/9000 images processed, 5.5 seconds used.\n",
            "2000/9000 images processed, 5.6 seconds used.\n",
            "2100/9000 images processed, 6.5 seconds used.\n",
            "2200/9000 images processed, 5.5 seconds used.\n",
            "2300/9000 images processed, 5.6 seconds used.\n",
            "2400/9000 images processed, 5.6 seconds used.\n",
            "2500/9000 images processed, 5.5 seconds used.\n",
            "2600/9000 images processed, 5.5 seconds used.\n",
            "2700/9000 images processed, 5.5 seconds used.\n",
            "2800/9000 images processed, 5.5 seconds used.\n",
            "2900/9000 images processed, 5.5 seconds used.\n",
            "3000/9000 images processed, 5.5 seconds used.\n",
            "3100/9000 images processed, 5.6 seconds used.\n",
            "3200/9000 images processed, 5.5 seconds used.\n",
            "3300/9000 images processed, 5.5 seconds used.\n",
            "3400/9000 images processed, 5.5 seconds used.\n",
            "3500/9000 images processed, 5.5 seconds used.\n",
            "3600/9000 images processed, 5.6 seconds used.\n",
            "3700/9000 images processed, 5.6 seconds used.\n",
            "3800/9000 images processed, 5.6 seconds used.\n",
            "3900/9000 images processed, 5.5 seconds used.\n",
            "4000/9000 images processed, 5.5 seconds used.\n",
            "4100/9000 images processed, 5.6 seconds used.\n",
            "4200/9000 images processed, 5.6 seconds used.\n",
            "4300/9000 images processed, 5.5 seconds used.\n",
            "4400/9000 images processed, 5.5 seconds used.\n",
            "4500/9000 images processed, 5.5 seconds used.\n",
            "4600/9000 images processed, 5.5 seconds used.\n",
            "4700/9000 images processed, 5.5 seconds used.\n",
            "4800/9000 images processed, 6.4 seconds used.\n",
            "4900/9000 images processed, 5.5 seconds used.\n",
            "5000/9000 images processed, 5.6 seconds used.\n",
            "5100/9000 images processed, 5.5 seconds used.\n",
            "5200/9000 images processed, 5.6 seconds used.\n",
            "5300/9000 images processed, 5.7 seconds used.\n",
            "5400/9000 images processed, 5.6 seconds used.\n",
            "5500/9000 images processed, 5.5 seconds used.\n",
            "5600/9000 images processed, 5.6 seconds used.\n",
            "5700/9000 images processed, 5.5 seconds used.\n",
            "5800/9000 images processed, 5.6 seconds used.\n",
            "5900/9000 images processed, 5.5 seconds used.\n",
            "6000/9000 images processed, 5.5 seconds used.\n",
            "6100/9000 images processed, 5.6 seconds used.\n",
            "6200/9000 images processed, 5.6 seconds used.\n",
            "6300/9000 images processed, 5.6 seconds used.\n",
            "6400/9000 images processed, 5.6 seconds used.\n",
            "6500/9000 images processed, 5.5 seconds used.\n",
            "6600/9000 images processed, 5.5 seconds used.\n",
            "6700/9000 images processed, 5.5 seconds used.\n",
            "6800/9000 images processed, 5.6 seconds used.\n",
            "6900/9000 images processed, 5.5 seconds used.\n",
            "7000/9000 images processed, 5.5 seconds used.\n",
            "7100/9000 images processed, 5.6 seconds used.\n",
            "7200/9000 images processed, 5.6 seconds used.\n",
            "7300/9000 images processed, 5.5 seconds used.\n",
            "7400/9000 images processed, 5.5 seconds used.\n",
            "7500/9000 images processed, 6.5 seconds used.\n",
            "7600/9000 images processed, 5.5 seconds used.\n",
            "7700/9000 images processed, 5.4 seconds used.\n",
            "7800/9000 images processed, 5.4 seconds used.\n",
            "7900/9000 images processed, 5.5 seconds used.\n",
            "8000/9000 images processed, 5.5 seconds used.\n",
            "8100/9000 images processed, 5.5 seconds used.\n",
            "8200/9000 images processed, 5.4 seconds used.\n",
            "8300/9000 images processed, 5.5 seconds used.\n",
            "8400/9000 images processed, 5.4 seconds used.\n",
            "8500/9000 images processed, 5.4 seconds used.\n",
            "8600/9000 images processed, 5.5 seconds used.\n",
            "8700/9000 images processed, 5.4 seconds used.\n",
            "8800/9000 images processed, 5.5 seconds used.\n",
            "8900/9000 images processed, 5.5 seconds used.\n",
            "9000/9000 images processed, 5.4 seconds used.\n",
            "Processing out-of-distribution images\n",
            " 100/9000 images processed, 526.6 seconds used.\n",
            " 200/9000 images processed, 48.1 seconds used.\n",
            " 300/9000 images processed, 47.7 seconds used.\n",
            " 400/9000 images processed, 48.2 seconds used.\n",
            " 500/9000 images processed, 47.5 seconds used.\n",
            " 600/9000 images processed, 47.1 seconds used.\n",
            " 700/9000 images processed, 47.3 seconds used.\n",
            " 800/9000 images processed, 47.9 seconds used.\n",
            " 900/9000 images processed, 47.6 seconds used.\n",
            "1000/9000 images processed, 47.5 seconds used.\n",
            "1100/9000 images processed, 47.8 seconds used.\n",
            "1200/9000 images processed, 48.2 seconds used.\n",
            "1300/9000 images processed, 47.7 seconds used.\n",
            "1400/9000 images processed, 46.9 seconds used.\n",
            "1500/9000 images processed, 47.5 seconds used.\n",
            "1600/9000 images processed, 48.7 seconds used.\n",
            "1700/9000 images processed, 47.8 seconds used.\n",
            "1800/9000 images processed, 48.2 seconds used.\n",
            "1900/9000 images processed, 47.9 seconds used.\n",
            "2000/9000 images processed, 47.5 seconds used.\n",
            "2100/9000 images processed, 48.7 seconds used.\n",
            "2200/9000 images processed, 47.6 seconds used.\n",
            "2300/9000 images processed, 47.4 seconds used.\n",
            "2400/9000 images processed, 47.9 seconds used.\n",
            "2500/9000 images processed, 46.9 seconds used.\n",
            "2600/9000 images processed, 47.9 seconds used.\n",
            "2700/9000 images processed, 47.0 seconds used.\n",
            "2800/9000 images processed, 48.0 seconds used.\n",
            "2900/9000 images processed, 47.3 seconds used.\n",
            "3000/9000 images processed, 46.9 seconds used.\n",
            "3100/9000 images processed, 47.5 seconds used.\n",
            "3200/9000 images processed, 47.5 seconds used.\n",
            "3300/9000 images processed, 47.3 seconds used.\n",
            "3400/9000 images processed, 47.1 seconds used.\n",
            "3500/9000 images processed, 46.8 seconds used.\n",
            "3600/9000 images processed, 47.8 seconds used.\n",
            "3700/9000 images processed, 47.4 seconds used.\n",
            "3800/9000 images processed, 47.1 seconds used.\n",
            "3900/9000 images processed, 47.9 seconds used.\n",
            "4000/9000 images processed, 47.6 seconds used.\n",
            "4100/9000 images processed, 47.0 seconds used.\n",
            "4200/9000 images processed, 47.9 seconds used.\n",
            "4300/9000 images processed, 47.3 seconds used.\n",
            "4400/9000 images processed, 49.5 seconds used.\n",
            "4500/9000 images processed, 47.5 seconds used.\n",
            "4600/9000 images processed, 46.9 seconds used.\n",
            "Neural network architecture:          DenseNet-BC-100\n",
            "In-distribution dataset:                     CIFAR-10\n",
            "Out-of-distribution dataset:     Tiny-ImageNet (crop)\n",
            "\n",
            "                          Baseline         Our Method\n",
            "FPR at TPR 95%:              34.9%               4.3% \n",
            "Detection error:              9.8%               4.6%\n",
            "AUROC:                       95.3%              99.1%\n",
            "AUPR In:                     96.5%              99.1%\n",
            "AUPR Out:                    93.8%              99.1%\n"
          ]
        }
      ]
    }
  ]
}