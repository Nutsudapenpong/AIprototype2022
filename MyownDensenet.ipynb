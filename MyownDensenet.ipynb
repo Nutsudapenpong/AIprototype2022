{
  "nbformat": 4,
  "nbformat_minor": 0,
  "metadata": {
    "colab": {
      "name": "Untitled34.ipynb",
      "provenance": [],
      "authorship_tag": "ABX9TyOmVFVY0zYKbdp8N/bZVhYR",
      "include_colab_link": true
    },
    "kernelspec": {
      "name": "python3",
      "display_name": "Python 3"
    },
    "language_info": {
      "name": "python"
    },
    "accelerator": "GPU"
  },
  "cells": [
    {
      "cell_type": "markdown",
      "metadata": {
        "id": "view-in-github",
        "colab_type": "text"
      },
      "source": [
        "<a href=\"https://colab.research.google.com/github/Nutsudapenpong/AIprototype2022/blob/main/MyownDensenet.ipynb\" target=\"_parent\"><img src=\"https://colab.research.google.com/assets/colab-badge.svg\" alt=\"Open In Colab\"/></a>"
      ]
    },
    {
      "cell_type": "code",
      "source": [
        "from google.colab import drive\n",
        "drive.mount('/content/drive')"
      ],
      "metadata": {
        "colab": {
          "base_uri": "https://localhost:8080/"
        },
        "id": "rSMr_yahdnyi",
        "outputId": "f6a2c884-ed43-4a42-8c96-b3cd914b502a"
      },
      "execution_count": 2,
      "outputs": [
        {
          "output_type": "stream",
          "name": "stdout",
          "text": [
            "Mounted at /content/drive\n"
          ]
        }
      ]
    },
    {
      "cell_type": "code",
      "source": [
        "%cd /content/drive/MyDrive/New_yolo/Densenet"
      ],
      "metadata": {
        "colab": {
          "base_uri": "https://localhost:8080/"
        },
        "id": "cqkoibl-dxsl",
        "outputId": "e6ee5574-1d3a-4c30-87a7-b3598b332ebc"
      },
      "execution_count": 3,
      "outputs": [
        {
          "output_type": "stream",
          "name": "stdout",
          "text": [
            "/content/drive/MyDrive/New_yolo/Densenet\n"
          ]
        }
      ]
    },
    {
      "cell_type": "code",
      "execution_count": 4,
      "metadata": {
        "colab": {
          "base_uri": "https://localhost:8080/"
        },
        "id": "rCDOYGueb1No",
        "outputId": "0b2ebddb-6048-416f-cbb5-9d7c1a8ee5dd"
      },
      "outputs": [
        {
          "output_type": "stream",
          "name": "stdout",
          "text": [
            "--2022-05-29 15:38:57--  http://www.vision.caltech.edu/Image_Datasets/Caltech256/256_ObjectCategories.tar\n",
            "Resolving www.vision.caltech.edu (www.vision.caltech.edu)... 185.199.108.153, 185.199.109.153, 185.199.110.153, ...\n",
            "Connecting to www.vision.caltech.edu (www.vision.caltech.edu)|185.199.108.153|:80... connected.\n",
            "HTTP request sent, awaiting response... 404 Not Found\n",
            "2022-05-29 15:38:57 ERROR 404: Not Found.\n",
            "\n"
          ]
        }
      ],
      "source": [
        "!wget http://www.vision.caltech.edu/Image_Datasets/Caltech256/256_ObjectCategories.tar"
      ]
    },
    {
      "cell_type": "code",
      "source": [
        "#a library to simplify training\n",
        "!pip install pytorch-ignite"
      ],
      "metadata": {
        "colab": {
          "base_uri": "https://localhost:8080/"
        },
        "id": "C6mNlcp-eeqI",
        "outputId": "078e2eea-52b6-4569-99ce-53ba02a77b5e"
      },
      "execution_count": 5,
      "outputs": [
        {
          "output_type": "stream",
          "name": "stdout",
          "text": [
            "Looking in indexes: https://pypi.org/simple, https://us-python.pkg.dev/colab-wheels/public/simple/\n",
            "Collecting pytorch-ignite\n",
            "  Downloading pytorch_ignite-0.4.9-py3-none-any.whl (259 kB)\n",
            "\u001b[K     |████████████████████████████████| 259 kB 7.3 MB/s \n",
            "\u001b[?25hRequirement already satisfied: torch<2,>=1.3 in /usr/local/lib/python3.7/dist-packages (from pytorch-ignite) (1.11.0+cu113)\n",
            "Requirement already satisfied: packaging in /usr/local/lib/python3.7/dist-packages (from pytorch-ignite) (21.3)\n",
            "Requirement already satisfied: typing-extensions in /usr/local/lib/python3.7/dist-packages (from torch<2,>=1.3->pytorch-ignite) (4.2.0)\n",
            "Requirement already satisfied: pyparsing!=3.0.5,>=2.0.2 in /usr/local/lib/python3.7/dist-packages (from packaging->pytorch-ignite) (3.0.9)\n",
            "Installing collected packages: pytorch-ignite\n",
            "Successfully installed pytorch-ignite-0.4.9\n"
          ]
        }
      ]
    },
    {
      "cell_type": "code",
      "source": [
        "#for unzipping tar files\n",
        "!tar -xf 256_ObjectCategories.tar"
      ],
      "metadata": {
        "id": "5uzj_Oc_fBCc"
      },
      "execution_count": null,
      "outputs": []
    },
    {
      "cell_type": "code",
      "source": [
        "import torch\n",
        "import torchvision\n",
        "from torchvision import datasets, transforms #For loading our dataset\n",
        "from torch import nn, optim # NN module and optimizers\n",
        "from torch.nn import functional as F # Certain function, like sigmoid and tanh\n",
        "from torch.utils.data import DataLoader, sampler, random_split\n",
        "from torchvision import models # This is where we get our model."
      ],
      "metadata": {
        "id": "DgOz5VEdfKGN"
      },
      "execution_count": null,
      "outputs": []
    },
    {
      "cell_type": "code",
      "source": [
        "import matplotlib.pyplot as plt\n",
        "import seaborn as sns\n",
        "%matplotlib inline\n",
        "%config InlineBackend.figure_format = 'retina'\n",
        "#For retina displays only"
      ],
      "metadata": {
        "id": "ka_MnsckkhqI"
      },
      "execution_count": null,
      "outputs": []
    },
    {
      "cell_type": "code",
      "source": [
        "import numpy as np"
      ],
      "metadata": {
        "id": "ZF-fPZcvk_XN"
      },
      "execution_count": null,
      "outputs": []
    },
    {
      "cell_type": "code",
      "source": [
        "from ignite.engine import Engine, Events, create_supervised_trainer, create_supervised_evaluator\n",
        "from ignite.handlers import ModelCheckpoint, EarlyStopping\n",
        "from ignite.metrics import Accuracy, Loss, RunningAverage, ConfusionMatrix"
      ],
      "metadata": {
        "id": "jx0DAOvPlEA5"
      },
      "execution_count": null,
      "outputs": []
    },
    {
      "cell_type": "code",
      "source": [
        "#writing a helper function to load data in\n",
        "def get_data_loaders(data_dir, batch_size):\n",
        "  transform = transform.Compose([transforms.Resize(255), \n",
        "                                 transforms.CenterCrop(224),\n",
        "                                 transforms.ToTensor()])\n",
        "  #Changing the image so that we can use it in our model\n",
        "  all_images = datasets.ImageFolder(data_dir, transform=transform)\n",
        "  train_images_len = int(len(all_images) * 0.75) #75% of images will be trained\n",
        "  valid_images_len = int(len(all_images) - train_images_len)/2)\n",
        "  test_images_len = int((len(all_images) - train_images_len - valid_images_len))\n",
        "  train_data, val_data, test_data = random_split(all_images, [train_images_len, val_images_len, test_images_len])\n",
        "  train_loader = DataLoader(train_data, batch_size=batch_size)\n",
        "  test_loader = DataLoader(test_data, batch_size=batch_size)\n",
        "  val_loader = DataLoader(val_data, batch_size=batch_size)\n",
        "  return (train_loader, val_loader, test_loader), all_images.classes"
      ],
      "metadata": {
        "id": "QnBVY3DHyhNY"
      },
      "execution_count": null,
      "outputs": []
    },
    {
      "cell_type": "code",
      "source": [
        "(train_loader, val_loader, test_loader), classes = get_data_loader(\"/content/256_ObjectCategories\", 64)"
      ],
      "metadata": {
        "id": "2jQBd5ES2zev"
      },
      "execution_count": null,
      "outputs": []
    },
    {
      "cell_type": "code",
      "source": [
        "print(classes)"
      ],
      "metadata": {
        "id": "DecIjmsX3gOQ"
      },
      "execution_count": null,
      "outputs": []
    },
    {
      "cell_type": "code",
      "source": [
        "#build a helper function to format the text\n",
        "#Goal is to turn a string like 007.bat to bat\n",
        "import re\n",
        "def formatText(string):\n",
        "  string = string[4:]\n",
        "  return string.replace(\"_\", \" \")\n",
        "print(formatText(classes[0]))"
      ],
      "metadata": {
        "id": "d3nWCyzT3l2s"
      },
      "execution_count": null,
      "outputs": []
    },
    {
      "cell_type": "code",
      "source": [
        "#Display training images\n",
        "dataiter = iter(train_loader)\n",
        "images, labels = dataiter.next()\n",
        "\n",
        "fig=plt.figure(figure=(25,4))\n",
        "for idx in np.arange(20): #only 20 images\n",
        "  ax = fig.add_subplot(2, 20/2, idx + 1, xticks=[], yticks=[])\n",
        "  #We don't need axes for the images\n",
        "  plt.imshow(np.transpose(images[idx], (1, 2, 0)))\n",
        "  ax.set_title(formatText(classes[labels[idx]]))"
      ],
      "metadata": {
        "id": "Tl1QY0OD4oTG"
      },
      "execution_count": null,
      "outputs": []
    }
  ]
}